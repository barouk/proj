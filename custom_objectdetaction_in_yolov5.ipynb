{
  "cells": [
    {
      "cell_type": "markdown",
      "metadata": {
        "id": "view-in-github",
        "colab_type": "text"
      },
      "source": [
        "<a href=\"https://colab.research.google.com/github/barouk/proj/blob/main/custom_objectdetaction_in_yolov5.ipynb\" target=\"_parent\"><img src=\"https://colab.research.google.com/assets/colab-badge.svg\" alt=\"Open In Colab\"/></a>"
      ]
    },
    {
      "cell_type": "code",
      "execution_count": null,
      "metadata": {
        "id": "llZNg5ASecym"
      },
      "outputs": [],
      "source": [
        "%rm -r yolov5\n",
        "!git clone https://github.com/ultralytics/yolov5"
      ]
    },
    {
      "cell_type": "code",
      "source": [],
      "metadata": {
        "id": "6pkTCmE04GfY"
      },
      "execution_count": null,
      "outputs": []
    },
    {
      "cell_type": "code",
      "execution_count": null,
      "metadata": {
        "id": "ebIJ4IZ3fBzQ"
      },
      "outputs": [],
      "source": [
        "!pip install roboflow\n",
        "\n",
        "from roboflow import Roboflow\n",
        "rf = Roboflow(api_key=\"c1monuNXo97FVr52C3Q\")\n",
        "project = rf.workspace(\"zanajan-university\").project(\"apple-adyti\")\n",
        "dataset = project.version(7).download(\"yolov5\")#h\n",
        "\n",
        "\n"
      ]
    },
    {
      "cell_type": "code",
      "execution_count": null,
      "metadata": {
        "id": "3XU8MJIhfPtJ"
      },
      "outputs": [],
      "source": [
        "#!python ./yolov5/train.py --img 640 --batch 16 --epochs 5 --data /content/apple-7/data.yaml\n",
        "\n",
        "\n",
        "\n",
        "!python ./yolov5/train.py --img 640 --batch 16 --epochs 60 --data /content/apple-7/data.yaml --weights yolov5m.pt --cache\n",
        "\n"
      ]
    },
    {
      "cell_type": "code",
      "execution_count": null,
      "metadata": {
        "id": "x97ZAoQngiOJ"
      },
      "outputs": [],
      "source": [
        "\n"
      ]
    },
    {
      "cell_type": "code",
      "execution_count": null,
      "metadata": {
        "id": "M9At8aN4jccg"
      },
      "outputs": [],
      "source": []
    },
    {
      "cell_type": "code",
      "execution_count": null,
      "metadata": {
        "id": "Sm5FQJhUkLSe"
      },
      "outputs": [],
      "source": [
        "import torch\n",
        "\n",
        "\n",
        "model = torch.hub.load('ultralytics/yolov5', 'custom','/content/yolov5/runs/train/exp5/weights/best.pt')\n",
        "im = '/content/apple.jpg'\n",
        "results = model(im)\n",
        "results.show()\n",
        "print(results.xyxy[0])\n",
        "print(results.pandas().xyxy[0] )\n",
        "print(results.pandas().xyxy[0].value_counts('name'))\n"
      ]
    },
    {
      "cell_type": "code",
      "execution_count": null,
      "metadata": {
        "id": "lVJrhfjxW5eb"
      },
      "outputs": [],
      "source": [
        "\n",
        "!python /content/yolov5/detect.py --weights /content/yolov5/runs/train/exp5/weights/best.pt  --source /content/app.jpg"
      ]
    },
    {
      "cell_type": "code",
      "source": [
        "import torch\n",
        "from torch.utils.data import DataLoader, TensorDataset\n",
        "\n",
        "# بارگیری مدل PT آموزش دیده شده\n",
        "model = torch.load('yolo_model.pt')\n",
        "\n",
        "# بارگیری داده‌های جدید و تولید برچسب متناظر با آن‌ها با استفاده از YOLO\n",
        "new_images, yolo_labels = load_new_data()\n",
        "\n",
        "# تبدیل داده‌ها به tensor\n",
        "new_images_tensor = torch.tensor(new_images)\n",
        "yolo_labels_tensor = torch.tensor(yolo_labels)\n",
        "\n",
        "# تبدیل داده‌های جدید به شیء DataLoader\n",
        "new_data = TensorDataset(new_images_tensor, yolo_labels_tensor)\n",
        "new_data_loader = DataLoader(new_data, batch_size=32)\n",
        "\n",
        "# اضافه کردن داده‌های جدید و برچسب‌های آن‌ها به داده‌های آموزشی قبلی\n",
        "train_data = DataLoader(train_dataset, batch_size=32)\n",
        "train_data = torch.utils.data.ConcatDataset([train_data.dataset, new_data])\n",
        "train_data_loader = DataLoader(train_data, batch_size=32, shuffle=True)\n",
        "\n",
        "# تعریف متغیرهای ضروری برای آموزش مجدد مدل\n",
        "criterion = torch.nn.CrossEntropyLoss()\n",
        "optimizer = torch.optim.SGD(model.parameters(), lr=0.001)\n",
        "\n",
        "# آموزش مدل با داده‌های آموزشی جدید\n",
        "for epoch in range(10):\n",
        "    for images, labels in train_data_loader:\n",
        "        optimizer.zero_grad()\n",
        "        outputs = model(images)\n",
        "        loss = criterion(outputs, labels)\n",
        "        loss.backward()\n",
        "        optimizer.step()\n",
        "\n",
        "# ذخیره مدل جدید\n",
        "torch.save(model, 'updated_yolo_model.pt')"
      ],
      "metadata": {
        "id": "dP8BwLWf4H0f"
      },
      "execution_count": null,
      "outputs": []
    }
  ],
  "metadata": {
    "accelerator": "GPU",
    "colab": {
      "provenance": [],
      "private_outputs": true,
      "mount_file_id": "13cUs4uUni2tQW6TkV_Bk4zUkKJGS10OK",
      "authorship_tag": "ABX9TyNPVX+mAlnpCbD/gxwBLgmS",
      "include_colab_link": true
    },
    "gpuClass": "standard",
    "kernelspec": {
      "display_name": "Python 3",
      "name": "python3"
    },
    "language_info": {
      "name": "python"
    }
  },
  "nbformat": 4,
  "nbformat_minor": 0
}